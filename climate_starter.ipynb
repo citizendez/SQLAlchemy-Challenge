{
 "cells": [
  {
   "cell_type": "code",
   "execution_count": 1,
   "metadata": {},
   "outputs": [],
   "source": [
    "%matplotlib inline\n",
    "from matplotlib import style\n",
    "style.use('fivethirtyeight')\n",
    "import seaborn as sns\n",
    "import matplotlib.pyplot as plt"
   ]
  },
  {
   "cell_type": "code",
   "execution_count": 2,
   "metadata": {},
   "outputs": [],
   "source": [
    "import numpy as np\n",
    "import pandas as pd"
   ]
  },
  {
   "cell_type": "code",
   "execution_count": 3,
   "metadata": {},
   "outputs": [],
   "source": [
    "import datetime as dt"
   ]
  },
  {
   "cell_type": "code",
   "execution_count": 4,
   "metadata": {},
   "outputs": [],
   "source": [
    "import requests \n",
    "import json "
   ]
  },
  {
   "cell_type": "code",
   "execution_count": 5,
   "metadata": {},
   "outputs": [],
   "source": [
    "import scipy"
   ]
  },
  {
   "cell_type": "markdown",
   "metadata": {},
   "source": [
    "# Part 1 - Prepare SQLAlchemy "
   ]
  },
  {
   "cell_type": "code",
   "execution_count": 6,
   "metadata": {},
   "outputs": [],
   "source": [
    "# Python SQL toolkit and Object Relational Mapper\n",
    "import sqlalchemy\n",
    "from sqlalchemy import create_engine"
   ]
  },
  {
   "cell_type": "code",
   "execution_count": 7,
   "metadata": {},
   "outputs": [],
   "source": [
    "engine = create_engine(\"sqlite:///Resources/hawaii.sqlite\")\n",
    "conn = engine.connect()"
   ]
  },
  {
   "cell_type": "code",
   "execution_count": 8,
   "metadata": {},
   "outputs": [
    {
     "data": {
      "text/html": [
       "<div>\n",
       "<style scoped>\n",
       "    .dataframe tbody tr th:only-of-type {\n",
       "        vertical-align: middle;\n",
       "    }\n",
       "\n",
       "    .dataframe tbody tr th {\n",
       "        vertical-align: top;\n",
       "    }\n",
       "\n",
       "    .dataframe thead th {\n",
       "        text-align: right;\n",
       "    }\n",
       "</style>\n",
       "<table border=\"1\" class=\"dataframe\">\n",
       "  <thead>\n",
       "    <tr style=\"text-align: right;\">\n",
       "      <th></th>\n",
       "      <th>station</th>\n",
       "      <th>name</th>\n",
       "      <th>latitude</th>\n",
       "      <th>longitude</th>\n",
       "      <th>elevation</th>\n",
       "      <th>date</th>\n",
       "      <th>day</th>\n",
       "      <th>month</th>\n",
       "      <th>prcp</th>\n",
       "      <th>temp</th>\n",
       "    </tr>\n",
       "  </thead>\n",
       "  <tbody>\n",
       "    <tr>\n",
       "      <th>0</th>\n",
       "      <td>USC00519397</td>\n",
       "      <td>WAIKIKI 717.2, HI US</td>\n",
       "      <td>21.2716</td>\n",
       "      <td>-157.8168</td>\n",
       "      <td>3.0</td>\n",
       "      <td>2010-01-01</td>\n",
       "      <td>01</td>\n",
       "      <td>01</td>\n",
       "      <td>0.08</td>\n",
       "      <td>65.0</td>\n",
       "    </tr>\n",
       "    <tr>\n",
       "      <th>1</th>\n",
       "      <td>USC00519397</td>\n",
       "      <td>WAIKIKI 717.2, HI US</td>\n",
       "      <td>21.2716</td>\n",
       "      <td>-157.8168</td>\n",
       "      <td>3.0</td>\n",
       "      <td>2010-01-02</td>\n",
       "      <td>02</td>\n",
       "      <td>01</td>\n",
       "      <td>0.00</td>\n",
       "      <td>63.0</td>\n",
       "    </tr>\n",
       "    <tr>\n",
       "      <th>2</th>\n",
       "      <td>USC00519397</td>\n",
       "      <td>WAIKIKI 717.2, HI US</td>\n",
       "      <td>21.2716</td>\n",
       "      <td>-157.8168</td>\n",
       "      <td>3.0</td>\n",
       "      <td>2010-01-03</td>\n",
       "      <td>03</td>\n",
       "      <td>01</td>\n",
       "      <td>0.00</td>\n",
       "      <td>74.0</td>\n",
       "    </tr>\n",
       "    <tr>\n",
       "      <th>3</th>\n",
       "      <td>USC00519397</td>\n",
       "      <td>WAIKIKI 717.2, HI US</td>\n",
       "      <td>21.2716</td>\n",
       "      <td>-157.8168</td>\n",
       "      <td>3.0</td>\n",
       "      <td>2010-01-04</td>\n",
       "      <td>04</td>\n",
       "      <td>01</td>\n",
       "      <td>0.00</td>\n",
       "      <td>76.0</td>\n",
       "    </tr>\n",
       "    <tr>\n",
       "      <th>4</th>\n",
       "      <td>USC00519397</td>\n",
       "      <td>WAIKIKI 717.2, HI US</td>\n",
       "      <td>21.2716</td>\n",
       "      <td>-157.8168</td>\n",
       "      <td>3.0</td>\n",
       "      <td>2010-01-06</td>\n",
       "      <td>06</td>\n",
       "      <td>01</td>\n",
       "      <td>NaN</td>\n",
       "      <td>73.0</td>\n",
       "    </tr>\n",
       "  </tbody>\n",
       "</table>\n",
       "</div>"
      ],
      "text/plain": [
       "       station                  name  latitude  longitude  elevation  \\\n",
       "0  USC00519397  WAIKIKI 717.2, HI US   21.2716  -157.8168        3.0   \n",
       "1  USC00519397  WAIKIKI 717.2, HI US   21.2716  -157.8168        3.0   \n",
       "2  USC00519397  WAIKIKI 717.2, HI US   21.2716  -157.8168        3.0   \n",
       "3  USC00519397  WAIKIKI 717.2, HI US   21.2716  -157.8168        3.0   \n",
       "4  USC00519397  WAIKIKI 717.2, HI US   21.2716  -157.8168        3.0   \n",
       "\n",
       "         date day month  prcp  temp  \n",
       "0  2010-01-01  01    01  0.08  65.0  \n",
       "1  2010-01-02  02    01  0.00  63.0  \n",
       "2  2010-01-03  03    01  0.00  74.0  \n",
       "3  2010-01-04  04    01  0.00  76.0  \n",
       "4  2010-01-06  06    01   NaN  73.0  "
      ]
     },
     "execution_count": 8,
     "metadata": {},
     "output_type": "execute_result"
    }
   ],
   "source": [
    "# Preview the data model in Db Browser or a similar tool\n",
    "# (do this to get a sense as to how the database is structured)\n",
    "df_sm = pd.read_sql('SELECT * FROM station_measurements', engine)\n",
    "df_sm.head()"
   ]
  },
  {
   "cell_type": "markdown",
   "metadata": {},
   "source": [
    "# Part 2 - Exploratory Climate Analysis"
   ]
  },
  {
   "cell_type": "code",
   "execution_count": 58,
   "metadata": {},
   "outputs": [
    {
     "data": {
      "image/png": "[encoded data removed]",
      "text/plain": [
       "<Figure size 720x432 with 1 Axes>"
      ]
     },
     "metadata": {},
     "output_type": "display_data"
    }
   ],
   "source": [
    "# Design a query to retrieve the last 12 months of precipitation data and plot the results\n",
    "# Calculate the date 1 year ago from the last data point in the database\n",
    "# Perform a query to retrieve the date and precipitation scores\n",
    "# Save the query results as a Pandas DataFrame and set the index to the date column\n",
    "df_percip = pd.read_sql(\"\"\"SELECT date, prcp\n",
    "FROM station_measurements\n",
    "WHERE date > \n",
    "    (SELECT  DATE(MAX(date), '-1 year') \n",
    "    FROM Measurement) ;\n",
    "\"\"\", engine)\n",
    "df_percip.set_index('date', inplace=True)\n",
    "df_percip.head()\n",
    "\n",
    "# Sort the dataframe by date\n",
    "df_percip.sort_values(by='date', ascending=False, inplace=True)\n",
    "df_percip.head()\n",
    "\n",
    "# Use Pandas Plotting with Matplotlib to plot the data\n",
    "plt.style.use('fivethirtyeight')\n",
    "df_percip.plot(title=\"Average Rainfall Per Day\", color='m', alpha=0.8, figsize=(10,6))\n",
    "plt.xticks(rotation=75)\n",
    "plt.legend(loc='upper center', prop={'size': 10})\n",
    "plt.ylabel(\"Rainfall (Inches)\")\n",
    "plt.show()"
   ]
  },
  {
   "cell_type": "code",
   "execution_count": 10,
   "metadata": {},
   "outputs": [
    {
     "data": {
      "text/plain": [
       "count    18103.000000\n",
       "mean         0.160644\n",
       "std          0.468746\n",
       "min          0.000000\n",
       "25%          0.000000\n",
       "50%          0.010000\n",
       "75%          0.110000\n",
       "max         11.530000\n",
       "Name: prcp, dtype: float64"
      ]
     },
     "execution_count": 10,
     "metadata": {},
     "output_type": "execute_result"
    }
   ],
   "source": [
    "# Use Pandas to calculate the summary statistics for the precipitation data\n",
    "df_pd = df_sm\n",
    "df_pd.describe()['prcp']"
   ]
  },
  {
   "cell_type": "code",
   "execution_count": 11,
   "metadata": {},
   "outputs": [
    {
     "data": {
      "text/html": [
       "<div>\n",
       "<style scoped>\n",
       "    .dataframe tbody tr th:only-of-type {\n",
       "        vertical-align: middle;\n",
       "    }\n",
       "\n",
       "    .dataframe tbody tr th {\n",
       "        vertical-align: top;\n",
       "    }\n",
       "\n",
       "    .dataframe thead th {\n",
       "        text-align: right;\n",
       "    }\n",
       "</style>\n",
       "<table border=\"1\" class=\"dataframe\">\n",
       "  <thead>\n",
       "    <tr style=\"text-align: right;\">\n",
       "      <th></th>\n",
       "      <th>station_count</th>\n",
       "    </tr>\n",
       "  </thead>\n",
       "  <tbody>\n",
       "    <tr>\n",
       "      <th>0</th>\n",
       "      <td>9</td>\n",
       "    </tr>\n",
       "  </tbody>\n",
       "</table>\n",
       "</div>"
      ],
      "text/plain": [
       "   station_count\n",
       "0              9"
      ]
     },
     "execution_count": 11,
     "metadata": {},
     "output_type": "execute_result"
    }
   ],
   "source": [
    "# Design a query to show how many stations are available in this dataset?\n",
    "df_station_count = pd.read_sql(\"\"\"SELECT count(DISTINCT station) as station_count\n",
    "FROM station_measurements;\"\"\", engine)\n",
    "df_station_count.head()"
   ]
  },
  {
   "cell_type": "code",
   "execution_count": 12,
   "metadata": {},
   "outputs": [
    {
     "data": {
      "text/plain": [
       "USC00519281    2772\n",
       "USC00519397    2724\n",
       "USC00513117    2709\n",
       "USC00519523    2669\n",
       "USC00516128    2612\n",
       "USC00514830    2202\n",
       "USC00511918    1979\n",
       "USC00517948    1372\n",
       "USC00518838     511\n",
       "Name: station, dtype: int64"
      ]
     },
     "execution_count": 12,
     "metadata": {},
     "output_type": "execute_result"
    }
   ],
   "source": [
    "# What are the most active stations? (i.e. what stations have the most rows)?\n",
    "# List the stations and the counts in descending order.\n",
    "df_sm['station'].value_counts()"
   ]
  },
  {
   "cell_type": "code",
   "execution_count": 13,
   "metadata": {},
   "outputs": [
    {
     "data": {
      "text/html": [
       "<div>\n",
       "<style scoped>\n",
       "    .dataframe tbody tr th:only-of-type {\n",
       "        vertical-align: middle;\n",
       "    }\n",
       "\n",
       "    .dataframe tbody tr th {\n",
       "        vertical-align: top;\n",
       "    }\n",
       "\n",
       "    .dataframe thead th {\n",
       "        text-align: right;\n",
       "    }\n",
       "</style>\n",
       "<table border=\"1\" class=\"dataframe\">\n",
       "  <thead>\n",
       "    <tr style=\"text-align: right;\">\n",
       "      <th></th>\n",
       "      <th>min(temp)</th>\n",
       "      <th>max(temp)</th>\n",
       "      <th>avg(temp)</th>\n",
       "    </tr>\n",
       "  </thead>\n",
       "  <tbody>\n",
       "    <tr>\n",
       "      <th>0</th>\n",
       "      <td>54.0</td>\n",
       "      <td>85.0</td>\n",
       "      <td>71.663781</td>\n",
       "    </tr>\n",
       "  </tbody>\n",
       "</table>\n",
       "</div>"
      ],
      "text/plain": [
       "   min(temp)  max(temp)  avg(temp)\n",
       "0       54.0       85.0  71.663781"
      ]
     },
     "execution_count": 13,
     "metadata": {},
     "output_type": "execute_result"
    }
   ],
   "source": [
    "# Using the station id from the previous query, calculate the lowest temperature recorded, \n",
    "# highest temperature recorded, and average temperature of the most active station?\n",
    "\n",
    "#USING PANDAS\n",
    "moast_active = df_sm['station'].value_counts().index[0]\n",
    "moast_active\n",
    "#get station data \n",
    "df = df_sm.loc[df_sm['station'] == moast_active]\n",
    "df\n",
    "#lowest temp\n",
    "df['temp'].min()\n",
    "#highest temp\n",
    "df['temp'].max()\n",
    "#avg temp\n",
    "df['temp'].mean()\n",
    "\n",
    "#USING SQL\n",
    "df_mas_data = pd.read_sql(\"\"\"\n",
    "\n",
    "SELECT min(temp), max(temp), avg(temp)\n",
    "FROM station_measurements\n",
    "WHERE station = \n",
    "  (SELECT station FROM(\n",
    "    SELECT count(station)as cnt, station\n",
    "    FROM measurement\n",
    "    GROUP BY station\n",
    "    ORDER BY count(station) DESC LIMIT 1\n",
    "  ));\n",
    "\n",
    "\"\"\", engine)\n",
    "df_mas_data"
   ]
  },
  {
   "cell_type": "code",
   "execution_count": 14,
   "metadata": {},
   "outputs": [
    {
     "data": {
      "image/png": "[encoded data removed]",
      "text/plain": [
       "<Figure size 432x288 with 1 Axes>"
      ]
     },
     "metadata": {},
     "output_type": "display_data"
    }
   ],
   "source": [
    "# Choose the station with the highest number of temperature observations.\n",
    "# Query the last 12 months of temperature observation data for this station and plot the results as a histogram\n",
    "df_temp_obvs = pd.read_sql(\"\"\"\n",
    "\n",
    "SELECT *\n",
    "FROM station_measurements\n",
    "WHERE station = \n",
    "  (SELECT station FROM(\n",
    "    SELECT count(station)as cnt, station\n",
    "    FROM measurement\n",
    "    GROUP BY station\n",
    "    ORDER BY count(station) DESC LIMIT 1\n",
    "  )\n",
    " )\n",
    " AND date > \n",
    "    (SELECT  DATE(MAX(date), '-1 year') \n",
    "    FROM Measurement) ;\n",
    "\n",
    "\"\"\", engine)\n",
    "df_temp_obvs.head()\n",
    "plt.style.use('fivethirtyeight')\n",
    "plt.hist(df_temp_obvs['temp'], density=True, bins=12)\n",
    "plt.title = (\"Temperature vs. Frequency Histogram\")\n",
    "plt.show()"
   ]
  },
  {
   "cell_type": "code",
   "execution_count": 15,
   "metadata": {},
   "outputs": [
    {
     "name": "stdout",
     "output_type": "stream",
     "text": [
      "[{'2010-01-01': 0.08}, {'2010-01-02': 0.0}, {'2010-01-03': 0.0}, {'2010-01-04': 0.0}, {'2010-01-06': nan}, {'2010-01-07': 0.06}, {'2010-01-08': 0.0}, {'2010-01-09': 0.0}, {'2010-01-10': 0.0}, {'2010-01-11': 0.01}]\n"
     ]
    }
   ],
   "source": [
    "sql = \"\"\"\n",
    "        SELECT date, prcp FROM Measurement limit 10 \n",
    "        \"\"\" \n",
    "    #exicutes a sql query\n",
    "results = pd.read_sql(sql, engine)\n",
    "lst = [ ]\n",
    "for i, result in results.iterrows():\n",
    "    dic = { }\n",
    "    dic[result['date']] = result['prcp']\n",
    "    lst.append(dic)\n",
    "print(lst)"
   ]
  },
  {
   "cell_type": "markdown",
   "metadata": {},
   "source": [
    "## Part 3 - Data Analysis Assignment"
   ]
  },
  {
   "cell_type": "markdown",
   "metadata": {},
   "source": [
    "## Temperature Analysis I"
   ]
  },
  {
   "cell_type": "code",
   "execution_count": 16,
   "metadata": {},
   "outputs": [
    {
     "data": {
      "text/html": [
       "<div>\n",
       "<style scoped>\n",
       "    .dataframe tbody tr th:only-of-type {\n",
       "        vertical-align: middle;\n",
       "    }\n",
       "\n",
       "    .dataframe tbody tr th {\n",
       "        vertical-align: top;\n",
       "    }\n",
       "\n",
       "    .dataframe thead th {\n",
       "        text-align: right;\n",
       "    }\n",
       "</style>\n",
       "<table border=\"1\" class=\"dataframe\">\n",
       "  <thead>\n",
       "    <tr style=\"text-align: right;\">\n",
       "      <th></th>\n",
       "      <th>June Average</th>\n",
       "      <th>December Average</th>\n",
       "    </tr>\n",
       "  </thead>\n",
       "  <tbody>\n",
       "    <tr>\n",
       "      <th>0</th>\n",
       "      <td>74.944118</td>\n",
       "      <td>71.041529</td>\n",
       "    </tr>\n",
       "  </tbody>\n",
       "</table>\n",
       "</div>"
      ],
      "text/plain": [
       "   June Average  December Average\n",
       "0     74.944118         71.041529"
      ]
     },
     "execution_count": 16,
     "metadata": {},
     "output_type": "execute_result"
    }
   ],
   "source": [
    "df = pd.read_sql(\"\"\"\n",
    "    SELECT\n",
    "        (SELECT avg(temp) as Average_Temp \n",
    "        FROM station_measurements\n",
    "        WHERE strftime('%m',date) = '06' ) [June Average],\n",
    "\n",
    "        (SELECT avg(temp) as Average_Temp\n",
    "        FROM station_measurements\n",
    "        WHERE strftime('%m',date) = '12') [December Average];\n",
    "\"\"\", engine)\n",
    "df"
   ]
  },
  {
   "cell_type": "code",
   "execution_count": 17,
   "metadata": {},
   "outputs": [],
   "source": [
    "#ttest bullshit"
   ]
  },
  {
   "cell_type": "code",
   "execution_count": 18,
   "metadata": {},
   "outputs": [
    {
     "name": "stdout",
     "output_type": "stream",
     "text": [
      "[{'avg(temp)': 70.325, 'max(temp)': 74.0, 'min(temp)': 65.0}]\n"
     ]
    }
   ],
   "source": [
    "# This function called `calc_temps` will accept start date and end date in the format '%Y-%m-%d' \n",
    "# and return the minimum, average, and maximum temperatures for that range of dates\n",
    "def calc_temps(start_date, end_date):\n",
    "    \"\"\"TMIN, TAVG, and TMAX for a list of dates.\n",
    "    \n",
    "    Args:\n",
    "        start_date (string): A date string in the format %Y-%m-%d\n",
    "        end_date (string): A date string in the format %Y-%m-%d\n",
    "        \n",
    "    Returns:\n",
    "        TMIN, TAVE, and TMAX\n",
    "    \"\"\"\n",
    "    \n",
    "    # your code here\n",
    "    response = requests.get(f'http://127.0.0.1:5000//api/v1.0/{start_date}/{end_date}')  \n",
    "    result = response.json()\n",
    "    return result\n",
    "\n",
    "# function usage example\n",
    "print(calc_temps('2012-02-28', '2012-03-05'))"
   ]
  },
  {
   "cell_type": "code",
   "execution_count": 19,
   "metadata": {},
   "outputs": [
    {
     "name": "stdout",
     "output_type": "stream",
     "text": [
      "[{'avg(temp)': 70.0, 'max(temp)': 74.0, 'min(temp)': 61.0}]\n"
     ]
    }
   ],
   "source": [
    "# Use your previous function `calc_temps` to calculate the tmin, tavg, and tmax \n",
    "# for your trip using the previous year's data for those same dates.\n",
    "temps = (calc_temps('2011-02-28', '2011-03-05'))\n",
    "print(temps)"
   ]
  },
  {
   "cell_type": "code",
   "execution_count": 24,
   "metadata": {},
   "outputs": [
    {
     "data": {
      "image/png": "[encoded data removed]",
      "text/plain": [
       "<Figure size 432x288 with 1 Axes>"
      ]
     },
     "metadata": {},
     "output_type": "display_data"
    }
   ],
   "source": [
    "# Plot the results from your previous query as a bar chart. \n",
    "# Use \"Trip Avg Temp\" as your Title\n",
    "# Use the average temperature for the y value\n",
    "# Use the peak-to-peak (tmax-tmin) value as the y error bar (yerr)\n",
    "plt.style.use('fivethirtyeight')\n",
    "maxt = temps[0]['max(temp)']\n",
    "mint = temps[0]['min(temp)']\n",
    "y_error = maxt - mint\n",
    "xaxis = ['']\n",
    "yaxis = temps[0]['avg(temp)']\n",
    "plt.bar(xaxis, yaxis, color='g')\n",
    "plt.errorbar(xaxis, yaxis, \n",
    "             yerr = y_error, \n",
    "             fmt ='o', color = 'black')\n",
    "#plt.title(\"Trip Avg Temp\")\n",
    "plt.ylabel('Temp (F)')\n",
    "plt.tight_layout()\n",
    "plt.show()"
   ]
  },
  {
   "cell_type": "code",
   "execution_count": null,
   "metadata": {},
   "outputs": [],
   "source": [
    "# Calculate the total amount of rainfall per weather station for your trip dates using the previous year's matching dates.\n",
    "# Sort this in descending order by precipitation amount and list the station, name, latitude, longitude, and elevation\n",
    "start_date = '2017-01-06'\n",
    "end_date = '2017-01-20'\n",
    "df = pd.read_sql(f\"\"\" \n",
    "    SELECT date, station, sum(prcp) as percipitation, latitude, longitude, elevation\n",
    "    FROM station_measurements\n",
    "    WHERE date BETWEEN DATE('{start_date}', '-1 year') and DATE('{end_date}', '-1 year')\n",
    "    GROUP BY station\n",
    "    ORDER BY percipitation DESC;\n",
    "\n",
    "\"\"\", engine)\n",
    "df"
   ]
  },
  {
   "cell_type": "code",
   "execution_count": null,
   "metadata": {},
   "outputs": [],
   "source": [
    "    df = pd.read_sql(f\"\"\" \n",
    "        SELECT *\n",
    "        FROM station_measurements\n",
    "        \n",
    "\n",
    "    \"\"\", engine)\n",
    "    df"
   ]
  },
  {
   "cell_type": "code",
   "execution_count": 30,
   "metadata": {},
   "outputs": [
    {
     "data": {
      "text/plain": [
       "{'mo_day': '01-01', 'tmin': 62.0, 'tmax': 77.0, 'tavg': 69.15384615384616}"
      ]
     },
     "execution_count": 30,
     "metadata": {},
     "output_type": "execute_result"
    }
   ],
   "source": [
    "# Create a query that will calculate the daily normals \n",
    "# (i.e. the averages for tmin, tmax, and tavg for all historic data matching a specific month and day)\n",
    "\n",
    "def daily_normals(date):\n",
    "    \"\"\"Daily Normals.\n",
    "    \n",
    "    Args:\n",
    "        date (str): A date string in the format '%m-%d'\n",
    "        \n",
    "    Returns:\n",
    "        A DataFrame containing the daily normals, tmin, tavg, and tmax\n",
    "    \n",
    "    \"\"\"\n",
    "    sql = f\"\"\" \n",
    "        SELECT month || '-' || day as mo_day, min(temp) as tmin, max(temp) as tmax, avg(temp) as tavg\n",
    "        FROM station_measurements\n",
    "        WHERE month || '-' || day  = '{date}'\n",
    "        ;\n",
    "\n",
    "    \"\"\"\n",
    "    df = pd.read_sql(sql, engine)\n",
    "    #print(sql)\n",
    "    return df.to_dict(orient='records')[0]\n",
    "    \n",
    "daily_normals(\"01-01\")"
   ]
  },
  {
   "cell_type": "code",
   "execution_count": 38,
   "metadata": {},
   "outputs": [
    {
     "name": "stdout",
     "output_type": "stream",
     "text": [
      "[{'mo_day': '01-01', 'tmin': 62.0, 'tmax': 77.0, 'tavg': 69.15384615384616}, {'mo_day': '01-02', 'tmin': 60.0, 'tmax': 77.0, 'tavg': 69.39622641509433}, {'mo_day': '01-03', 'tmin': 62.0, 'tmax': 77.0, 'tavg': 68.9090909090909}, {'mo_day': '01-04', 'tmin': 58.0, 'tmax': 76.0, 'tavg': 70.0}, {'mo_day': '01-05', 'tmin': 56.0, 'tmax': 76.0, 'tavg': 67.96428571428571}]\n"
     ]
    }
   ],
   "source": [
    "# calculate the daily normals for your trip\n",
    "# push each tuple of calculations into a list called `normals`\n",
    "# Set the start and end date of the trip\n",
    "# Use the start and end date to create a range of dates\n",
    "# Stip off the year and save a list of %m-%d strings\n",
    "# Loop through the list of %m-%d strings and calculate the normals for each date\n",
    "normals = [ ]\n",
    "dates = [\"01-01-2020\", \"01-02-2020\", \"01-03-2020\", \"01-04-2020\", \"01-05-2020\"]\n",
    "\n",
    "for date in dates:\n",
    "    md = date[:5]\n",
    "    normals.append(daily_normals(md))\n",
    "print(normals)\n"
   ]
  },
  {
   "cell_type": "code",
   "execution_count": 45,
   "metadata": {},
   "outputs": [
    {
     "data": {
      "text/html": [
       "<div>\n",
       "<style scoped>\n",
       "    .dataframe tbody tr th:only-of-type {\n",
       "        vertical-align: middle;\n",
       "    }\n",
       "\n",
       "    .dataframe tbody tr th {\n",
       "        vertical-align: top;\n",
       "    }\n",
       "\n",
       "    .dataframe thead th {\n",
       "        text-align: right;\n",
       "    }\n",
       "</style>\n",
       "<table border=\"1\" class=\"dataframe\">\n",
       "  <thead>\n",
       "    <tr style=\"text-align: right;\">\n",
       "      <th></th>\n",
       "      <th>tmin</th>\n",
       "      <th>tmax</th>\n",
       "      <th>tavg</th>\n",
       "    </tr>\n",
       "    <tr>\n",
       "      <th>date</th>\n",
       "      <th></th>\n",
       "      <th></th>\n",
       "      <th></th>\n",
       "    </tr>\n",
       "  </thead>\n",
       "  <tbody>\n",
       "    <tr>\n",
       "      <th>01-01-2020</th>\n",
       "      <td>62.0</td>\n",
       "      <td>77.0</td>\n",
       "      <td>69.153846</td>\n",
       "    </tr>\n",
       "    <tr>\n",
       "      <th>01-02-2020</th>\n",
       "      <td>60.0</td>\n",
       "      <td>77.0</td>\n",
       "      <td>69.396226</td>\n",
       "    </tr>\n",
       "    <tr>\n",
       "      <th>01-03-2020</th>\n",
       "      <td>62.0</td>\n",
       "      <td>77.0</td>\n",
       "      <td>68.909091</td>\n",
       "    </tr>\n",
       "    <tr>\n",
       "      <th>01-04-2020</th>\n",
       "      <td>58.0</td>\n",
       "      <td>76.0</td>\n",
       "      <td>70.000000</td>\n",
       "    </tr>\n",
       "    <tr>\n",
       "      <th>01-05-2020</th>\n",
       "      <td>56.0</td>\n",
       "      <td>76.0</td>\n",
       "      <td>67.964286</td>\n",
       "    </tr>\n",
       "  </tbody>\n",
       "</table>\n",
       "</div>"
      ],
      "text/plain": [
       "            tmin  tmax       tavg\n",
       "date                             \n",
       "01-01-2020  62.0  77.0  69.153846\n",
       "01-02-2020  60.0  77.0  69.396226\n",
       "01-03-2020  62.0  77.0  68.909091\n",
       "01-04-2020  58.0  76.0  70.000000\n",
       "01-05-2020  56.0  76.0  67.964286"
      ]
     },
     "execution_count": 45,
     "metadata": {},
     "output_type": "execute_result"
    }
   ],
   "source": [
    "# Load the previous query results into a Pandas DataFrame and add the `trip_dates` range as the `date` index\n",
    "df = pd.DataFrame(normals)\n",
    "df['date'] = dates\n",
    "df.set_index('date', inplace=True)\n",
    "df.drop(columns='mo_day', inplace=True)\n",
    "df"
   ]
  },
  {
   "cell_type": "code",
   "execution_count": 53,
   "metadata": {},
   "outputs": [
    {
     "data": {
      "image/png": "[encoded data removed]",
      "text/plain": [
       "<Figure size 432x288 with 1 Axes>"
      ]
     },
     "metadata": {},
     "output_type": "display_data"
    }
   ],
   "source": [
    "# Plot the daily normals as an area plot with `stacked=False`\n",
    "df.plot.area(stacked=False, x_compat=True, color=('steelblue','y','m'), title='Daily Normals for Trip Dates')\n",
    "plt.tight_layout()\n",
    "plt.xticks(rotation=75)\n",
    "#plt.savefig('Images/tripdailynormals.png')\n",
    "plt.show()"
   ]
  }
 ],
 "metadata": {
  "kernel_info": {
   "name": "python3"
  },
  "kernelspec": {
   "display_name": "Python 3",
   "language": "python",
   "name": "python3"
  },
  "language_info": {
   "codemirror_mode": {
    "name": "ipython",
    "version": 3
   },
   "file_extension": ".py",
   "mimetype": "text/x-python",
   "name": "python",
   "nbconvert_exporter": "python",
   "pygments_lexer": "ipython3",
   "version": "3.8.3"
  },
  "nteract": {
   "version": "0.12.3"
  },
  "varInspector": {
   "cols": {
    "lenName": 16,
    "lenType": 16,
    "lenVar": 40
   },
   "kernels_config": {
    "python": {
     "delete_cmd_postfix": "",
     "delete_cmd_prefix": "del ",
     "library": "var_list.py",
     "varRefreshCmd": "print(var_dic_list())"
    },
    "r": {
     "delete_cmd_postfix": ") ",
     "delete_cmd_prefix": "rm(",
     "library": "var_list.r",
     "varRefreshCmd": "cat(var_dic_list()) "
    }
   },
   "types_to_exclude": [
    "module",
    "function",
    "builtin_function_or_method",
    "instance",
    "_Feature"
   ],
   "window_display": false
  }
 },
 "nbformat": 4,
 "nbformat_minor": 2
}
